{
 "cells": [
  {
   "cell_type": "code",
   "execution_count": 1,
   "id": "7d1f2dbb",
   "metadata": {},
   "outputs": [],
   "source": [
    "import numpy as np"
   ]
  },
  {
   "cell_type": "code",
   "execution_count": 3,
   "id": "2b5690d4",
   "metadata": {},
   "outputs": [],
   "source": [
    "a = np.array([2, 4, np.NaN, 30], float)"
   ]
  },
  {
   "cell_type": "code",
   "execution_count": 4,
   "id": "5daede41",
   "metadata": {},
   "outputs": [
    {
     "data": {
      "text/plain": [
       "array([ 2.,  4., nan, 30.])"
      ]
     },
     "execution_count": 4,
     "metadata": {},
     "output_type": "execute_result"
    }
   ],
   "source": [
    "a"
   ]
  },
  {
   "cell_type": "code",
   "execution_count": 5,
   "id": "d7957dfc",
   "metadata": {},
   "outputs": [
    {
     "data": {
      "text/plain": [
       "array([False, False,  True, False])"
      ]
     },
     "execution_count": 5,
     "metadata": {},
     "output_type": "execute_result"
    }
   ],
   "source": [
    "np.isnan(a)"
   ]
  },
  {
   "cell_type": "code",
   "execution_count": 6,
   "id": "f497cd05",
   "metadata": {},
   "outputs": [
    {
     "data": {
      "text/plain": [
       "array([ True,  True, False,  True])"
      ]
     },
     "execution_count": 6,
     "metadata": {},
     "output_type": "execute_result"
    }
   ],
   "source": [
    "np.isfinite(a)"
   ]
  },
  {
   "cell_type": "code",
   "execution_count": 29,
   "id": "2214411e",
   "metadata": {},
   "outputs": [],
   "source": [
    "b = np.array([[2, 8], [9, 19]], float)"
   ]
  },
  {
   "cell_type": "code",
   "execution_count": 30,
   "id": "6e420605",
   "metadata": {},
   "outputs": [
    {
     "data": {
      "text/plain": [
       "array([[ 2.,  8.],\n",
       "       [ 9., 19.]])"
      ]
     },
     "execution_count": 30,
     "metadata": {},
     "output_type": "execute_result"
    }
   ],
   "source": [
    "b"
   ]
  },
  {
   "cell_type": "code",
   "execution_count": 31,
   "id": "410b56b5",
   "metadata": {},
   "outputs": [
    {
     "data": {
      "text/plain": [
       "array([[False,  True],\n",
       "       [ True,  True]])"
      ]
     },
     "execution_count": 31,
     "metadata": {},
     "output_type": "execute_result"
    }
   ],
   "source": [
    "b >= 5"
   ]
  },
  {
   "cell_type": "code",
   "execution_count": 32,
   "id": "203b4ecb",
   "metadata": {},
   "outputs": [
    {
     "data": {
      "text/plain": [
       "array([ 8.,  9., 19.])"
      ]
     },
     "execution_count": 32,
     "metadata": {},
     "output_type": "execute_result"
    }
   ],
   "source": [
    "b[b >= 5] #This is like the for loop, it will print the value that is true only "
   ]
  },
  {
   "cell_type": "code",
   "execution_count": 33,
   "id": "d0fbd69c",
   "metadata": {},
   "outputs": [],
   "source": [
    "v = (b >= 5)"
   ]
  },
  {
   "cell_type": "code",
   "execution_count": 24,
   "id": "c31425b0",
   "metadata": {},
   "outputs": [
    {
     "data": {
      "text/plain": [
       "array([ 8.,  8., 19.])"
      ]
     },
     "execution_count": 24,
     "metadata": {},
     "output_type": "execute_result"
    }
   ],
   "source": [
    "b[v] #This is just like the previous one, we just put it in a variable and then use it again"
   ]
  },
  {
   "cell_type": "code",
   "execution_count": 34,
   "id": "dfe56f82",
   "metadata": {},
   "outputs": [
    {
     "data": {
      "text/plain": [
       "array([8., 9.])"
      ]
     },
     "execution_count": 34,
     "metadata": {},
     "output_type": "execute_result"
    }
   ],
   "source": [
    "b[np.logical_and(b > 5, b < 10)]"
   ]
  },
  {
   "cell_type": "code",
   "execution_count": 37,
   "id": "7e87307c",
   "metadata": {},
   "outputs": [
    {
     "data": {
      "text/plain": [
       "array([1., 1., 9., 8., 3.])"
      ]
     },
     "execution_count": 37,
     "metadata": {},
     "output_type": "execute_result"
    }
   ],
   "source": [
    "x = np.array([[3, 1], [9, 8]], float)\n",
    "y = np.array([0, 0, 1, 1, 0], int)\n",
    "z = np.array([1, 1, 0, 1, 0], int)\n",
    "x[y, z]"
   ]
  },
  {
   "cell_type": "code",
   "execution_count": 38,
   "id": "9a02be10",
   "metadata": {},
   "outputs": [
    {
     "data": {
      "text/plain": [
       "array([3., 3., 1., 1., 3.])"
      ]
     },
     "execution_count": 38,
     "metadata": {},
     "output_type": "execute_result"
    }
   ],
   "source": [
    "x.take(y)"
   ]
  },
  {
   "cell_type": "code",
   "execution_count": 39,
   "id": "3f4e19fe",
   "metadata": {},
   "outputs": [
    {
     "data": {
      "text/plain": [
       "array([1., 1., 3., 1., 3.])"
      ]
     },
     "execution_count": 39,
     "metadata": {},
     "output_type": "execute_result"
    }
   ],
   "source": [
    "x.take(z)"
   ]
  },
  {
   "cell_type": "code",
   "execution_count": 40,
   "id": "dbecc23d",
   "metadata": {},
   "outputs": [
    {
     "data": {
      "text/plain": [
       "array([[3., 1.],\n",
       "       [3., 1.],\n",
       "       [9., 8.],\n",
       "       [9., 8.],\n",
       "       [3., 1.]])"
      ]
     },
     "execution_count": 40,
     "metadata": {},
     "output_type": "execute_result"
    }
   ],
   "source": [
    "x.take(y, axis=0)"
   ]
  },
  {
   "cell_type": "code",
   "execution_count": 41,
   "id": "2670180d",
   "metadata": {},
   "outputs": [
    {
     "data": {
      "text/plain": [
       "array([[1., 1., 3., 1., 3.],\n",
       "       [8., 8., 9., 8., 9.]])"
      ]
     },
     "execution_count": 41,
     "metadata": {},
     "output_type": "execute_result"
    }
   ],
   "source": [
    "x.take(z, axis=1)\n",
    "#axis = 1 means column"
   ]
  },
  {
   "cell_type": "code",
   "execution_count": 42,
   "id": "d295f9a4",
   "metadata": {},
   "outputs": [
    {
     "data": {
      "text/plain": [
       "array([[9., 8.],\n",
       "       [9., 8.],\n",
       "       [3., 1.],\n",
       "       [9., 8.],\n",
       "       [3., 1.]])"
      ]
     },
     "execution_count": 42,
     "metadata": {},
     "output_type": "execute_result"
    }
   ],
   "source": [
    "x.take(z, axis=0)\n",
    "#axis = 0 means row"
   ]
  },
  {
   "cell_type": "code",
   "execution_count": 45,
   "id": "ff655248",
   "metadata": {},
   "outputs": [],
   "source": [
    "x.put([0, 3], y)"
   ]
  },
  {
   "cell_type": "code",
   "execution_count": 46,
   "id": "3052cb5e",
   "metadata": {},
   "outputs": [
    {
     "data": {
      "text/plain": [
       "array([[0., 1.],\n",
       "       [9., 0.]])"
      ]
     },
     "execution_count": 46,
     "metadata": {},
     "output_type": "execute_result"
    }
   ],
   "source": [
    "x"
   ]
  },
  {
   "cell_type": "code",
   "execution_count": 48,
   "id": "18db918a",
   "metadata": {},
   "outputs": [],
   "source": [
    "x.put([0, 3], 6)"
   ]
  },
  {
   "cell_type": "code",
   "execution_count": 49,
   "id": "28677636",
   "metadata": {},
   "outputs": [
    {
     "data": {
      "text/plain": [
       "array([[6., 1.],\n",
       "       [9., 6.]])"
      ]
     },
     "execution_count": 49,
     "metadata": {},
     "output_type": "execute_result"
    }
   ],
   "source": [
    "x"
   ]
  },
  {
   "cell_type": "code",
   "execution_count": 52,
   "id": "b3748adb",
   "metadata": {},
   "outputs": [
    {
     "data": {
      "text/plain": [
       "47.0"
      ]
     },
     "execution_count": 52,
     "metadata": {},
     "output_type": "execute_result"
    }
   ],
   "source": [
    "a = np.array([3, 1, 9], float)\n",
    "b = np.array([4, 8, 3], float)\n",
    "np.dot(a, b)"
   ]
  },
  {
   "cell_type": "code",
   "execution_count": 53,
   "id": "d6d8fe64",
   "metadata": {},
   "outputs": [
    {
     "data": {
      "text/plain": [
       "array([[12., 24.,  9.],\n",
       "       [ 4.,  8.,  3.],\n",
       "       [36., 72., 27.]])"
      ]
     },
     "execution_count": 53,
     "metadata": {},
     "output_type": "execute_result"
    }
   ],
   "source": [
    "np.outer(a, b)"
   ]
  },
  {
   "cell_type": "code",
   "execution_count": 54,
   "id": "0dc1a7f4",
   "metadata": {},
   "outputs": [
    {
     "data": {
      "text/plain": [
       "47.0"
      ]
     },
     "execution_count": 54,
     "metadata": {},
     "output_type": "execute_result"
    }
   ],
   "source": [
    "np.inner(a, b)\n",
    "#inner like dot"
   ]
  },
  {
   "cell_type": "code",
   "execution_count": 55,
   "id": "1cf1c53b",
   "metadata": {},
   "outputs": [
    {
     "data": {
      "text/plain": [
       "3.0"
      ]
     },
     "execution_count": 55,
     "metadata": {},
     "output_type": "execute_result"
    }
   ],
   "source": [
    "np.median(a)"
   ]
  },
  {
   "cell_type": "code",
   "execution_count": 59,
   "id": "43693d33",
   "metadata": {},
   "outputs": [],
   "source": [
    "np.random.seed(293892)"
   ]
  },
  {
   "cell_type": "code",
   "execution_count": 61,
   "id": "b2923a88",
   "metadata": {},
   "outputs": [
    {
     "data": {
      "text/plain": [
       "array([0.06422734, 0.32584701, 0.75947412, 0.50300437, 0.50082124,\n",
       "       0.80259791, 0.49812842, 0.99767889, 0.14153841, 0.48934197])"
      ]
     },
     "execution_count": 61,
     "metadata": {},
     "output_type": "execute_result"
    }
   ],
   "source": [
    "np.random.rand(10)"
   ]
  },
  {
   "cell_type": "code",
   "execution_count": 62,
   "id": "f9741a4e",
   "metadata": {},
   "outputs": [
    {
     "data": {
      "text/plain": [
       "array([[0.61822902, 0.07379226],\n",
       "       [0.18801113, 0.40221117],\n",
       "       [0.4835773 , 0.28870103]])"
      ]
     },
     "execution_count": 62,
     "metadata": {},
     "output_type": "execute_result"
    }
   ],
   "source": [
    "np.random.rand(3, 2)"
   ]
  },
  {
   "cell_type": "code",
   "execution_count": 65,
   "id": "2557b4f5",
   "metadata": {},
   "outputs": [
    {
     "data": {
      "text/plain": [
       "array([[0.40177721, 0.95704449, 0.81332116],\n",
       "       [0.1701638 , 0.31394497, 0.28180267]])"
      ]
     },
     "execution_count": 65,
     "metadata": {},
     "output_type": "execute_result"
    }
   ],
   "source": [
    "np.random.rand(6).reshape((2, 3))"
   ]
  },
  {
   "cell_type": "code",
   "execution_count": 66,
   "id": "26a69ec4",
   "metadata": {},
   "outputs": [
    {
     "data": {
      "text/plain": [
       "0.10539050729252986"
      ]
     },
     "execution_count": 66,
     "metadata": {},
     "output_type": "execute_result"
    }
   ],
   "source": [
    "np.random.random()"
   ]
  },
  {
   "cell_type": "code",
   "execution_count": 73,
   "id": "e8bad062",
   "metadata": {},
   "outputs": [
    {
     "data": {
      "text/plain": [
       "17"
      ]
     },
     "execution_count": 73,
     "metadata": {},
     "output_type": "execute_result"
    }
   ],
   "source": [
    "np.random.randint(5, 100)"
   ]
  },
  {
   "cell_type": "code",
   "execution_count": 75,
   "id": "1fac11c4",
   "metadata": {},
   "outputs": [
    {
     "data": {
      "text/plain": [
       "8"
      ]
     },
     "execution_count": 75,
     "metadata": {},
     "output_type": "execute_result"
    }
   ],
   "source": [
    "np.random.poisson(6.0)"
   ]
  },
  {
   "cell_type": "code",
   "execution_count": 76,
   "id": "266c53b0",
   "metadata": {},
   "outputs": [
    {
     "data": {
      "text/plain": [
       "1.840419592282659"
      ]
     },
     "execution_count": 76,
     "metadata": {},
     "output_type": "execute_result"
    }
   ],
   "source": [
    "np.random.normal(1.5, 3.9)"
   ]
  },
  {
   "cell_type": "code",
   "execution_count": 77,
   "id": "c383e2ba",
   "metadata": {},
   "outputs": [
    {
     "data": {
      "text/plain": [
       "2.380634242134735"
      ]
     },
     "execution_count": 77,
     "metadata": {},
     "output_type": "execute_result"
    }
   ],
   "source": [
    "np.random.normal()"
   ]
  },
  {
   "cell_type": "code",
   "execution_count": 78,
   "id": "43abf97e",
   "metadata": {},
   "outputs": [
    {
     "data": {
      "text/plain": [
       "array([ 0.08868401, -1.11252743, -0.86023051])"
      ]
     },
     "execution_count": 78,
     "metadata": {},
     "output_type": "execute_result"
    }
   ],
   "source": [
    "np.random.normal(size=3)"
   ]
  },
  {
   "cell_type": "code",
   "execution_count": 79,
   "id": "b88b7661",
   "metadata": {},
   "outputs": [
    {
     "data": {
      "text/plain": [
       "array([-1.22868821,  0.36595371,  0.63202927,  1.09771742,  0.15073174,\n",
       "        1.22626524])"
      ]
     },
     "execution_count": 79,
     "metadata": {},
     "output_type": "execute_result"
    }
   ],
   "source": [
    "np.random.normal(size=6)"
   ]
  },
  {
   "cell_type": "code",
   "execution_count": 81,
   "id": "e74c7c04",
   "metadata": {},
   "outputs": [],
   "source": [
    "l = range(10)"
   ]
  },
  {
   "cell_type": "code",
   "execution_count": 82,
   "id": "43acffda",
   "metadata": {},
   "outputs": [
    {
     "data": {
      "text/plain": [
       "range(0, 10)"
      ]
     },
     "execution_count": 82,
     "metadata": {},
     "output_type": "execute_result"
    }
   ],
   "source": [
    "l"
   ]
  },
  {
   "cell_type": "code",
   "execution_count": 85,
   "id": "080443db",
   "metadata": {},
   "outputs": [],
   "source": [
    "w = range(20)"
   ]
  },
  {
   "cell_type": "code",
   "execution_count": 86,
   "id": "a2b6eec7",
   "metadata": {},
   "outputs": [
    {
     "data": {
      "text/plain": [
       "range(0, 20)"
      ]
     },
     "execution_count": 86,
     "metadata": {},
     "output_type": "execute_result"
    }
   ],
   "source": [
    "w"
   ]
  },
  {
   "cell_type": "code",
   "execution_count": null,
   "id": "0e43b8d9",
   "metadata": {},
   "outputs": [],
   "source": []
  }
 ],
 "metadata": {
  "kernelspec": {
   "display_name": "Python 3 (ipykernel)",
   "language": "python",
   "name": "python3"
  },
  "language_info": {
   "codemirror_mode": {
    "name": "ipython",
    "version": 3
   },
   "file_extension": ".py",
   "mimetype": "text/x-python",
   "name": "python",
   "nbconvert_exporter": "python",
   "pygments_lexer": "ipython3",
   "version": "3.11.3"
  }
 },
 "nbformat": 4,
 "nbformat_minor": 5
}
